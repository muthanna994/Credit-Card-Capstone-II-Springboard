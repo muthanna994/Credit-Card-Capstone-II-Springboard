{
 "cells": [
  {
   "cell_type": "markdown",
   "id": "ef50b3a6",
   "metadata": {},
   "source": [
    "# Capstone Two: Modeling\n",
    "\n",
    "I will continue working on Credit Card Fraud data, I am training a model that help detect fraudulent transactions before they occure on the client's bank account. The three models I will be training in this notebook are K-Nearest-Neighbor(KNN), Support Vector Machine(SVM), and Random Forest."
   ]
  },
  {
   "cell_type": "markdown",
   "id": "7e9a6b73",
   "metadata": {},
   "source": [
    "### Import libraries"
   ]
  },
  {
   "cell_type": "code",
   "execution_count": 1,
   "id": "99bf745f",
   "metadata": {},
   "outputs": [],
   "source": [
    "import pandas as pd\n",
    "import numpy as np\n",
    "import matplotlib.pyplot as plt\n",
    "import seaborn as sns\n",
    "from sklearn.model_selection import train_test_split, GridSearchCV, cross_val_score\n",
    "from sklearn.preprocessing import StandardScaler\n",
    "from sklearn.metrics import confusion_matrix, accuracy_score\n",
    "from sklearn.ensemble import RandomForestClassifier\n",
    "from sklearn import svm\n",
    "from sklearn.neighbors import KNeighborsClassifier"
   ]
  },
  {
   "cell_type": "markdown",
   "id": "06ff350e",
   "metadata": {},
   "source": [
    "### Load data\n",
    "The data I already have saved in my device, I loaded it to my notebook using pandas method .read_csv() and printed the first five rows of the data for a quick look on the features I have available."
   ]
  },
  {
   "cell_type": "code",
   "execution_count": 2,
   "id": "123b6cfb",
   "metadata": {},
   "outputs": [
    {
     "data": {
      "text/html": [
       "<div>\n",
       "<style scoped>\n",
       "    .dataframe tbody tr th:only-of-type {\n",
       "        vertical-align: middle;\n",
       "    }\n",
       "\n",
       "    .dataframe tbody tr th {\n",
       "        vertical-align: top;\n",
       "    }\n",
       "\n",
       "    .dataframe thead th {\n",
       "        text-align: right;\n",
       "    }\n",
       "</style>\n",
       "<table border=\"1\" class=\"dataframe\">\n",
       "  <thead>\n",
       "    <tr style=\"text-align: right;\">\n",
       "      <th></th>\n",
       "      <th>merchant</th>\n",
       "      <th>category</th>\n",
       "      <th>amt</th>\n",
       "      <th>city</th>\n",
       "      <th>state</th>\n",
       "      <th>lat</th>\n",
       "      <th>long</th>\n",
       "      <th>city_pop</th>\n",
       "      <th>age</th>\n",
       "      <th>merch_lat</th>\n",
       "      <th>merch_long</th>\n",
       "      <th>is_fraud</th>\n",
       "      <th>day</th>\n",
       "      <th>year</th>\n",
       "      <th>month</th>\n",
       "      <th>hour</th>\n",
       "    </tr>\n",
       "  </thead>\n",
       "  <tbody>\n",
       "    <tr>\n",
       "      <th>0</th>\n",
       "      <td>Rau and Sons</td>\n",
       "      <td>grocery_pos</td>\n",
       "      <td>314.70</td>\n",
       "      <td>Glendale</td>\n",
       "      <td>CA</td>\n",
       "      <td>34.1556</td>\n",
       "      <td>-118.2322</td>\n",
       "      <td>172817</td>\n",
       "      <td>83</td>\n",
       "      <td>33.283670</td>\n",
       "      <td>-118.654974</td>\n",
       "      <td>1</td>\n",
       "      <td>Sat</td>\n",
       "      <td>2019</td>\n",
       "      <td>9</td>\n",
       "      <td>3</td>\n",
       "    </tr>\n",
       "    <tr>\n",
       "      <th>1</th>\n",
       "      <td>Connelly, Reichert and Fritsch</td>\n",
       "      <td>gas_transport</td>\n",
       "      <td>43.51</td>\n",
       "      <td>Mesa</td>\n",
       "      <td>ID</td>\n",
       "      <td>44.6255</td>\n",
       "      <td>-116.4493</td>\n",
       "      <td>129</td>\n",
       "      <td>59</td>\n",
       "      <td>45.456663</td>\n",
       "      <td>-116.555030</td>\n",
       "      <td>0</td>\n",
       "      <td>Wed</td>\n",
       "      <td>2020</td>\n",
       "      <td>1</td>\n",
       "      <td>6</td>\n",
       "    </tr>\n",
       "    <tr>\n",
       "      <th>2</th>\n",
       "      <td>Friesen Inc</td>\n",
       "      <td>shopping_pos</td>\n",
       "      <td>795.01</td>\n",
       "      <td>Parker Dam</td>\n",
       "      <td>CA</td>\n",
       "      <td>34.2980</td>\n",
       "      <td>-114.1560</td>\n",
       "      <td>126</td>\n",
       "      <td>32</td>\n",
       "      <td>34.922036</td>\n",
       "      <td>-113.901876</td>\n",
       "      <td>1</td>\n",
       "      <td>Sun</td>\n",
       "      <td>2019</td>\n",
       "      <td>1</td>\n",
       "      <td>23</td>\n",
       "    </tr>\n",
       "    <tr>\n",
       "      <th>3</th>\n",
       "      <td>Mosciski, Ziemann and Farrell</td>\n",
       "      <td>shopping_net</td>\n",
       "      <td>8.25</td>\n",
       "      <td>Hooper</td>\n",
       "      <td>NE</td>\n",
       "      <td>41.6414</td>\n",
       "      <td>-96.5232</td>\n",
       "      <td>1745</td>\n",
       "      <td>51</td>\n",
       "      <td>42.557041</td>\n",
       "      <td>-96.231715</td>\n",
       "      <td>0</td>\n",
       "      <td>Sun</td>\n",
       "      <td>2020</td>\n",
       "      <td>2</td>\n",
       "      <td>14</td>\n",
       "    </tr>\n",
       "    <tr>\n",
       "      <th>4</th>\n",
       "      <td>Brown PLC</td>\n",
       "      <td>misc_net</td>\n",
       "      <td>715.01</td>\n",
       "      <td>Carroll</td>\n",
       "      <td>NE</td>\n",
       "      <td>42.2770</td>\n",
       "      <td>-97.1926</td>\n",
       "      <td>566</td>\n",
       "      <td>49</td>\n",
       "      <td>42.175045</td>\n",
       "      <td>-97.983932</td>\n",
       "      <td>1</td>\n",
       "      <td>Sun</td>\n",
       "      <td>2020</td>\n",
       "      <td>2</td>\n",
       "      <td>23</td>\n",
       "    </tr>\n",
       "  </tbody>\n",
       "</table>\n",
       "</div>"
      ],
      "text/plain": [
       "                         merchant       category     amt        city state  \\\n",
       "0                    Rau and Sons    grocery_pos  314.70    Glendale    CA   \n",
       "1  Connelly, Reichert and Fritsch  gas_transport   43.51        Mesa    ID   \n",
       "2                     Friesen Inc   shopping_pos  795.01  Parker Dam    CA   \n",
       "3   Mosciski, Ziemann and Farrell   shopping_net    8.25      Hooper    NE   \n",
       "4                       Brown PLC       misc_net  715.01     Carroll    NE   \n",
       "\n",
       "       lat      long  city_pop  age  merch_lat  merch_long  is_fraud  day  \\\n",
       "0  34.1556 -118.2322    172817   83  33.283670 -118.654974         1  Sat   \n",
       "1  44.6255 -116.4493       129   59  45.456663 -116.555030         0  Wed   \n",
       "2  34.2980 -114.1560       126   32  34.922036 -113.901876         1  Sun   \n",
       "3  41.6414  -96.5232      1745   51  42.557041  -96.231715         0  Sun   \n",
       "4  42.2770  -97.1926       566   49  42.175045  -97.983932         1  Sun   \n",
       "\n",
       "   year  month  hour  \n",
       "0  2019      9     3  \n",
       "1  2020      1     6  \n",
       "2  2019      1    23  \n",
       "3  2020      2    14  \n",
       "4  2020      2    23  "
      ]
     },
     "execution_count": 2,
     "metadata": {},
     "output_type": "execute_result"
    }
   ],
   "source": [
    "# calling pandas .read_csv() and head() method\n",
    "df = pd.read_csv(r\"C:\\Users\\mutha\\Downloads\\preprocessed_data2.csv\")\n",
    "df.head()"
   ]
  },
  {
   "cell_type": "markdown",
   "id": "3fd3923e",
   "metadata": {},
   "source": [
    "### Data exploration\n",
    "This step gives an insight look of the data. it's necessary to learn about the data size and types before moveing on towerds modeling. since I have data expolration done on this data on the previous steps, I will go straight to data encoding and model preparing."
   ]
  },
  {
   "cell_type": "code",
   "execution_count": 3,
   "id": "64263e52",
   "metadata": {},
   "outputs": [
    {
     "name": "stdout",
     "output_type": "stream",
     "text": [
      "<class 'pandas.core.frame.DataFrame'>\n",
      "RangeIndex: 3564 entries, 0 to 3563\n",
      "Data columns (total 16 columns):\n",
      " #   Column      Non-Null Count  Dtype  \n",
      "---  ------      --------------  -----  \n",
      " 0   merchant    3564 non-null   object \n",
      " 1   category    3564 non-null   object \n",
      " 2   amt         3564 non-null   float64\n",
      " 3   city        3564 non-null   object \n",
      " 4   state       3564 non-null   object \n",
      " 5   lat         3564 non-null   float64\n",
      " 6   long        3564 non-null   float64\n",
      " 7   city_pop    3564 non-null   int64  \n",
      " 8   age         3564 non-null   int64  \n",
      " 9   merch_lat   3564 non-null   float64\n",
      " 10  merch_long  3564 non-null   float64\n",
      " 11  is_fraud    3564 non-null   int64  \n",
      " 12  day         3564 non-null   object \n",
      " 13  year        3564 non-null   int64  \n",
      " 14  month       3564 non-null   int64  \n",
      " 15  hour        3564 non-null   int64  \n",
      "dtypes: float64(5), int64(6), object(5)\n",
      "memory usage: 445.6+ KB\n"
     ]
    }
   ],
   "source": [
    "df.info()"
   ]
  },
  {
   "cell_type": "code",
   "execution_count": 4,
   "id": "5a7f1d89",
   "metadata": {},
   "outputs": [
    {
     "data": {
      "text/html": [
       "<div>\n",
       "<style scoped>\n",
       "    .dataframe tbody tr th:only-of-type {\n",
       "        vertical-align: middle;\n",
       "    }\n",
       "\n",
       "    .dataframe tbody tr th {\n",
       "        vertical-align: top;\n",
       "    }\n",
       "\n",
       "    .dataframe thead th {\n",
       "        text-align: right;\n",
       "    }\n",
       "</style>\n",
       "<table border=\"1\" class=\"dataframe\">\n",
       "  <thead>\n",
       "    <tr style=\"text-align: right;\">\n",
       "      <th></th>\n",
       "      <th>amt</th>\n",
       "      <th>lat</th>\n",
       "      <th>long</th>\n",
       "      <th>city_pop</th>\n",
       "      <th>age</th>\n",
       "      <th>merch_lat</th>\n",
       "      <th>merch_long</th>\n",
       "      <th>is_fraud</th>\n",
       "      <th>year</th>\n",
       "      <th>month</th>\n",
       "      <th>...</th>\n",
       "      <th>state_UT</th>\n",
       "      <th>state_WA</th>\n",
       "      <th>state_WY</th>\n",
       "      <th>day_Fri</th>\n",
       "      <th>day_Mon</th>\n",
       "      <th>day_Sat</th>\n",
       "      <th>day_Sun</th>\n",
       "      <th>day_Thu</th>\n",
       "      <th>day_Tue</th>\n",
       "      <th>day_Wed</th>\n",
       "    </tr>\n",
       "  </thead>\n",
       "  <tbody>\n",
       "    <tr>\n",
       "      <th>0</th>\n",
       "      <td>314.70</td>\n",
       "      <td>34.1556</td>\n",
       "      <td>-118.2322</td>\n",
       "      <td>172817</td>\n",
       "      <td>83</td>\n",
       "      <td>33.283670</td>\n",
       "      <td>-118.654974</td>\n",
       "      <td>1</td>\n",
       "      <td>2019</td>\n",
       "      <td>9</td>\n",
       "      <td>...</td>\n",
       "      <td>False</td>\n",
       "      <td>False</td>\n",
       "      <td>False</td>\n",
       "      <td>False</td>\n",
       "      <td>False</td>\n",
       "      <td>True</td>\n",
       "      <td>False</td>\n",
       "      <td>False</td>\n",
       "      <td>False</td>\n",
       "      <td>False</td>\n",
       "    </tr>\n",
       "    <tr>\n",
       "      <th>1</th>\n",
       "      <td>43.51</td>\n",
       "      <td>44.6255</td>\n",
       "      <td>-116.4493</td>\n",
       "      <td>129</td>\n",
       "      <td>59</td>\n",
       "      <td>45.456663</td>\n",
       "      <td>-116.555030</td>\n",
       "      <td>0</td>\n",
       "      <td>2020</td>\n",
       "      <td>1</td>\n",
       "      <td>...</td>\n",
       "      <td>False</td>\n",
       "      <td>False</td>\n",
       "      <td>False</td>\n",
       "      <td>False</td>\n",
       "      <td>False</td>\n",
       "      <td>False</td>\n",
       "      <td>False</td>\n",
       "      <td>False</td>\n",
       "      <td>False</td>\n",
       "      <td>True</td>\n",
       "    </tr>\n",
       "    <tr>\n",
       "      <th>2</th>\n",
       "      <td>795.01</td>\n",
       "      <td>34.2980</td>\n",
       "      <td>-114.1560</td>\n",
       "      <td>126</td>\n",
       "      <td>32</td>\n",
       "      <td>34.922036</td>\n",
       "      <td>-113.901876</td>\n",
       "      <td>1</td>\n",
       "      <td>2019</td>\n",
       "      <td>1</td>\n",
       "      <td>...</td>\n",
       "      <td>False</td>\n",
       "      <td>False</td>\n",
       "      <td>False</td>\n",
       "      <td>False</td>\n",
       "      <td>False</td>\n",
       "      <td>False</td>\n",
       "      <td>True</td>\n",
       "      <td>False</td>\n",
       "      <td>False</td>\n",
       "      <td>False</td>\n",
       "    </tr>\n",
       "    <tr>\n",
       "      <th>3</th>\n",
       "      <td>8.25</td>\n",
       "      <td>41.6414</td>\n",
       "      <td>-96.5232</td>\n",
       "      <td>1745</td>\n",
       "      <td>51</td>\n",
       "      <td>42.557041</td>\n",
       "      <td>-96.231715</td>\n",
       "      <td>0</td>\n",
       "      <td>2020</td>\n",
       "      <td>2</td>\n",
       "      <td>...</td>\n",
       "      <td>False</td>\n",
       "      <td>False</td>\n",
       "      <td>False</td>\n",
       "      <td>False</td>\n",
       "      <td>False</td>\n",
       "      <td>False</td>\n",
       "      <td>True</td>\n",
       "      <td>False</td>\n",
       "      <td>False</td>\n",
       "      <td>False</td>\n",
       "    </tr>\n",
       "    <tr>\n",
       "      <th>4</th>\n",
       "      <td>715.01</td>\n",
       "      <td>42.2770</td>\n",
       "      <td>-97.1926</td>\n",
       "      <td>566</td>\n",
       "      <td>49</td>\n",
       "      <td>42.175045</td>\n",
       "      <td>-97.983932</td>\n",
       "      <td>1</td>\n",
       "      <td>2020</td>\n",
       "      <td>2</td>\n",
       "      <td>...</td>\n",
       "      <td>False</td>\n",
       "      <td>False</td>\n",
       "      <td>False</td>\n",
       "      <td>False</td>\n",
       "      <td>False</td>\n",
       "      <td>False</td>\n",
       "      <td>True</td>\n",
       "      <td>False</td>\n",
       "      <td>False</td>\n",
       "      <td>False</td>\n",
       "    </tr>\n",
       "  </tbody>\n",
       "</table>\n",
       "<p>5 rows × 886 columns</p>\n",
       "</div>"
      ],
      "text/plain": [
       "      amt      lat      long  city_pop  age  merch_lat  merch_long  is_fraud  \\\n",
       "0  314.70  34.1556 -118.2322    172817   83  33.283670 -118.654974         1   \n",
       "1   43.51  44.6255 -116.4493       129   59  45.456663 -116.555030         0   \n",
       "2  795.01  34.2980 -114.1560       126   32  34.922036 -113.901876         1   \n",
       "3    8.25  41.6414  -96.5232      1745   51  42.557041  -96.231715         0   \n",
       "4  715.01  42.2770  -97.1926       566   49  42.175045  -97.983932         1   \n",
       "\n",
       "   year  month  ...  state_UT  state_WA  state_WY  day_Fri  day_Mon  day_Sat  \\\n",
       "0  2019      9  ...     False     False     False    False    False     True   \n",
       "1  2020      1  ...     False     False     False    False    False    False   \n",
       "2  2019      1  ...     False     False     False    False    False    False   \n",
       "3  2020      2  ...     False     False     False    False    False    False   \n",
       "4  2020      2  ...     False     False     False    False    False    False   \n",
       "\n",
       "   day_Sun  day_Thu  day_Tue  day_Wed  \n",
       "0    False    False    False    False  \n",
       "1    False    False    False     True  \n",
       "2     True    False    False    False  \n",
       "3     True    False    False    False  \n",
       "4     True    False    False    False  \n",
       "\n",
       "[5 rows x 886 columns]"
      ]
     },
     "execution_count": 4,
     "metadata": {},
     "output_type": "execute_result"
    }
   ],
   "source": [
    "# here I am selecting categorical columns and encode them using pandas method .get_dummies()\n",
    "cat_cols = df.select_dtypes(include=['object']).columns.tolist()\n",
    "encoded_df = pd.get_dummies(df, columns=cat_cols)\n",
    "encoded_df.head()"
   ]
  },
  {
   "cell_type": "code",
   "execution_count": 5,
   "id": "523e10f3",
   "metadata": {},
   "outputs": [
    {
     "name": "stdout",
     "output_type": "stream",
     "text": [
      "<class 'pandas.core.frame.DataFrame'>\n",
      "RangeIndex: 3564 entries, 0 to 3563\n",
      "Columns: 886 entries, amt to day_Wed\n",
      "dtypes: bool(875), float64(5), int64(6)\n",
      "memory usage: 3.3 MB\n"
     ]
    }
   ],
   "source": [
    "encoded_df.info()"
   ]
  },
  {
   "cell_type": "markdown",
   "id": "48d5becc",
   "metadata": {},
   "source": [
    "### Data splitting"
   ]
  },
  {
   "cell_type": "code",
   "execution_count": 6,
   "id": "da7a2bb8",
   "metadata": {},
   "outputs": [],
   "source": [
    "# spliting data data into variable X and the target y\n",
    "X = encoded_df.drop(columns=['is_fraud'])\n",
    "y = encoded_df['is_fraud']"
   ]
  },
  {
   "cell_type": "code",
   "execution_count": 7,
   "id": "aef36872",
   "metadata": {},
   "outputs": [],
   "source": [
    "# applying train_test_split to split my data into train data 80% and test data 20%\n",
    "X_train, X_test, y_train, y_test = train_test_split(X, y, test_size= 0.2, random_state=42)"
   ]
  },
  {
   "cell_type": "markdown",
   "id": "0baea471",
   "metadata": {},
   "source": [
    "### Data scaling"
   ]
  },
  {
   "cell_type": "code",
   "execution_count": 8,
   "id": "0f7a549a",
   "metadata": {},
   "outputs": [],
   "source": [
    "# I scale the data using Standard Scaler \n",
    "scaler = StandardScaler()\n",
    "X_train = scaler.fit_transform(X_train)\n",
    "X_test = scaler.transform(X_test)"
   ]
  },
  {
   "cell_type": "markdown",
   "id": "4ef70b3e",
   "metadata": {},
   "source": [
    "### K-Nearest Neighbor (KNN)"
   ]
  },
  {
   "cell_type": "code",
   "execution_count": 9,
   "id": "70967197",
   "metadata": {},
   "outputs": [
    {
     "name": "stdout",
     "output_type": "stream",
     "text": [
      "The train scores is: [1.0, 0.7751666082076465, 0.7884952648193616, 0.7537706068046299, 0.7418449666783584, 0.7365836548579446, 0.7151876534549281, 0.7190459487898982, 0.6909856190810242]\n",
      "The test scores is: [0.6086956521739131, 0.6002805049088359, 0.6185133239831697, 0.6002805049088359, 0.5918653576437588, 0.6044880785413744, 0.5960729312762973, 0.6115007012622721, 0.6002805049088359]\n"
     ]
    }
   ],
   "source": [
    "# I will start by initiating an empty list for train scores and test scores\n",
    "train_scores = []\n",
    "test_scores = []\n",
    "# Here I will loob over a range of (1, 10) and fit that range to KNN to get the train and test scores\n",
    "for i in range(1,10):\n",
    "    knn = KNeighborsClassifier(i)\n",
    "    knn.fit(X_train, y_train)\n",
    "    train_scores.append(knn.score(X_train, y_train))\n",
    "    test_scores.append(knn.score(X_test, y_test))\n",
    "# Next I will print the scores    \n",
    "print(\"The train scores is:\", train_scores)\n",
    "print(\"The test scores is:\", test_scores)"
   ]
  },
  {
   "cell_type": "code",
   "execution_count": 10,
   "id": "54e1efc0",
   "metadata": {},
   "outputs": [
    {
     "name": "stdout",
     "output_type": "stream",
     "text": [
      "The max number of train scores is: 1\n",
      "The max number of the test scores is: 3\n"
     ]
    }
   ],
   "source": [
    "# let's now get the max score of the train data\n",
    "train_scores_max = train_scores.index(max(train_scores))\n",
    "max_train_num = train_scores_max + 1\n",
    "print(\"The max number of train scores is:\", max_train_num)\n",
    "# similarly getting the max score of the test data\n",
    "test_scores_max = test_scores.index(max(test_scores))\n",
    "max_test_num = test_scores_max + 1\n",
    "print(\"The max number of the test scores is:\", max_test_num)"
   ]
  },
  {
   "cell_type": "code",
   "execution_count": 11,
   "id": "bd23b156",
   "metadata": {},
   "outputs": [
    {
     "data": {
      "text/plain": [
       "<Axes: >"
      ]
     },
     "execution_count": 11,
     "metadata": {},
     "output_type": "execute_result"
    },
    {
     "data": {
      "image/png": "[encoded data removed]",
      "text/plain": [
       "<Figure size 1000x400 with 1 Axes>"
      ]
     },
     "metadata": {},
     "output_type": "display_data"
    }
   ],
   "source": [
    "# plotting the train and test data will give us a visual look of the scores\n",
    "plt.figure(figsize=(10, 4))\n",
    "sns.lineplot(x=range(1,10), y=train_scores, marker='*', label='Train score')\n",
    "sns.lineplot(x=range(1,10), y=test_scores, marker='o', label='Test score')"
   ]
  },
  {
   "cell_type": "markdown",
   "id": "89eea841",
   "metadata": {},
   "source": [
    "From the chart above we can identify that n_neighbors=3, so we will use that in our KNN model and fit it to our data and get the accuracy of it's prediction."
   ]
  },
  {
   "cell_type": "code",
   "execution_count": 12,
   "id": "3dd8dbd5",
   "metadata": {},
   "outputs": [
    {
     "name": "stdout",
     "output_type": "stream",
     "text": [
      "KNN model predictions accuracy is: 0.6185133239831697\n"
     ]
    }
   ],
   "source": [
    "# calling KNeighborsClassifier with n_neighbors=3 and fit it to our train data\n",
    "knn = KNeighborsClassifier(n_neighbors=3)\n",
    "knn.fit(X_train, y_train)\n",
    "# after fitting the model, time to call .predict() on the test data and print the accuracy of the model\n",
    "y_pred = knn.predict(X_test)\n",
    "accuracy = accuracy_score(y_test, y_pred)\n",
    "print(\"KNN model predictions accuracy is:\", accuracy)"
   ]
  },
  {
   "cell_type": "markdown",
   "id": "3544af24",
   "metadata": {},
   "source": [
    "The accuracy of the KNN model is 62%, below I will be showing the confusion matrix of the model."
   ]
  },
  {
   "cell_type": "code",
   "execution_count": 13,
   "id": "ef13b823",
   "metadata": {},
   "outputs": [
    {
     "data": {
      "text/plain": [
       "Text(0.5, 1.0, 'Confusion Matrix heatmap')"
      ]
     },
     "execution_count": 13,
     "metadata": {},
     "output_type": "execute_result"
    },
    {
     "data": {
      "image/png": "[encoded data removed]",
      "text/plain": [
       "<Figure size 800x600 with 2 Axes>"
      ]
     },
     "metadata": {},
     "output_type": "display_data"
    }
   ],
   "source": [
    "# I will be getting the confusion matrix using the method confusion_matrix() and assign it to CM\n",
    "CM = confusion_matrix(y_test, y_pred)\n",
    "# plotting a heatmap for the confusion matrix\n",
    "plt.figure(figsize=(8, 6))\n",
    "sns.heatmap(CM, annot=True, fmt='d', cmap='Blues', xticklabels=['Not Fraud', 'Fraud'], yticklabels=['Not Fraud', 'Fraud'])\n",
    "plt.title('Confusion Matrix heatmap')"
   ]
  },
  {
   "cell_type": "markdown",
   "id": "b556e073",
   "metadata": {},
   "source": [
    "## Model evaluation "
   ]
  },
  {
   "cell_type": "code",
   "execution_count": 15,
   "id": "50a33a90",
   "metadata": {},
   "outputs": [
    {
     "name": "stdout",
     "output_type": "stream",
     "text": [
      "[0.64970588 0.61362745 0.68098039 0.62162162 0.623907  ]\n",
      "Mean cross validation train score is: 0.622319112540281\n",
      "Mean cross validation test score is: 0.6379684684684686\n"
     ]
    }
   ],
   "source": [
    "# On here I will using cross validation and roc_auc to evaluate the model\n",
    "cv_scores_train = cross_val_score(knn, X_train, y_train, cv=5, scoring='roc_auc')\n",
    "cv_scores_test = cross_val_score(knn, X_test, y_test, cv=5, scoring='roc_auc')\n",
    "print(cv_scores_test)\n",
    "# Getting the mean of the scores\n",
    "cv_scores_train_mean = cv_scores_train.mean()\n",
    "cv_scores_test_mean = cv_scores_test.mean()\n",
    "print(\"Mean cross validation train score is:\", cv_scores_train_mean)\n",
    "print(\"Mean cross validation test score is:\", cv_scores_test_mean)"
   ]
  },
  {
   "cell_type": "markdown",
   "id": "7578a97f",
   "metadata": {},
   "source": [
    "As we saw above after applying cross-validation and auc-roc on the KNN model we got slight improvment to our model from 62% to a mean score of 63%."
   ]
  },
  {
   "cell_type": "markdown",
   "id": "e2a6e1a3",
   "metadata": {},
   "source": [
    "## Support Vector Machine (SVM)"
   ]
  },
  {
   "cell_type": "code",
   "execution_count": 18,
   "id": "c15ff853",
   "metadata": {},
   "outputs": [
    {
     "name": "stdout",
     "output_type": "stream",
     "text": [
      "The accuracy of the SVM model is: 0.7643758765778401\n",
      "The confusion matrix of the svm model is: [[273 100]\n",
      " [ 68 272]]\n"
     ]
    }
   ],
   "source": [
    "# Here I apply SVM on my train and test data\n",
    "svm = svm.SVC(kernel='linear')\n",
    "svm.fit(X_train, y_train)\n",
    "# getting predictions \n",
    "y_pred_svm = svm.predict(X_test)\n",
    "print(\"The accuracy of the SVM model is:\", accuracy_score(y_test, y_pred_svm))\n",
    "# getting the confusion matrix of the model\n",
    "CM = confusion_matrix(y_test, y_pred_svm)\n",
    "print(\"The confusion matrix of the svm model is:\", CM)"
   ]
  },
  {
   "cell_type": "markdown",
   "id": "7cb5f754",
   "metadata": {},
   "source": [
    "The accuracy of Support Vector Machine (SVM) is 76%, let's take a visual look on the confusion matrix."
   ]
  },
  {
   "cell_type": "code",
   "execution_count": 20,
   "id": "1e280281",
   "metadata": {},
   "outputs": [
    {
     "data": {
      "text/plain": [
       "Text(0.5, 1.0, 'Confusion Matrix Heatmap SVM model')"
      ]
     },
     "execution_count": 20,
     "metadata": {},
     "output_type": "execute_result"
    },
    {
     "data": {
      "image/png": "[encoded data removed]",
      "text/plain": [
       "<Figure size 800x600 with 2 Axes>"
      ]
     },
     "metadata": {},
     "output_type": "display_data"
    }
   ],
   "source": [
    "# plotting a heatmap of the confusion matrix\n",
    "plt.figure(figsize=(8,6))\n",
    "sns.heatmap(CM, annot=True, fmt='d', cmap='Blues', xticklabels=['Not Fraud', 'Fraud'], yticklabels=['Not Fraud', 'Fraud'])\n",
    "plt.title(\"Confusion Matrix Heatmap SVM model\")"
   ]
  },
  {
   "cell_type": "markdown",
   "id": "552705df",
   "metadata": {},
   "source": [
    "## Model evaluation"
   ]
  },
  {
   "cell_type": "code",
   "execution_count": 24,
   "id": "8b3fedcf",
   "metadata": {},
   "outputs": [
    {
     "name": "stdout",
     "output_type": "stream",
     "text": [
      "The accuracy of the test data is: [0.79843137 0.77352941 0.75235294 0.7104531  0.70826709]\n",
      "The CV mean score of the train data is: 0.8387334069630199\n",
      "The CV mean score of the test data is: 0.7486067832538421\n"
     ]
    }
   ],
   "source": [
    "# I will be using cross-validation and auc-roc again on SVM model\n",
    "cv_score_train = cross_val_score(svm, X_train, y_train, cv=5, scoring='roc_auc')\n",
    "cv_score_test = cross_val_score(svm, X_test, y_test, cv=5, scoring='roc_auc')\n",
    "print(\"The accuracy of the test data is:\", cv_score_test)\n",
    "# getting the mean of the scores\n",
    "cv_score_train_mean = cv_score_train.mean()\n",
    "cv_score_test_mean = cv_score_test.mean()\n",
    "print(\"The CV mean score of the train data is:\", cv_score_train_mean)\n",
    "print(\"The CV mean score of the test data is:\", cv_score_test_mean)"
   ]
  },
  {
   "cell_type": "markdown",
   "id": "13025ad4",
   "metadata": {},
   "source": [
    "The model is performing slightly better after applying model evaluation, before evaluation score is 76% and after evaluation score is 80% with a mean of score of 75%"
   ]
  },
  {
   "cell_type": "markdown",
   "id": "7992b0d6",
   "metadata": {},
   "source": [
    "## Random Forest\n",
    "\n",
    "#### GridSearchCV\n",
    "Along with this model I will use GridSearchCV to find the best hyperparameters, and then apply them on the Random Forest model, then print out the accuracy of the model.  "
   ]
  },
  {
   "cell_type": "code",
   "execution_count": 25,
   "id": "6a4ef237",
   "metadata": {},
   "outputs": [
    {
     "name": "stdout",
     "output_type": "stream",
     "text": [
      "Best score is: 0.9249393185239807\n",
      "Best parameters is: {'n_estimators': 41}\n"
     ]
    }
   ],
   "source": [
    "# First specifing a range of (1,50) to the param_grid\n",
    "param_grid = {'n_estimators':np.arange(1,50)}\n",
    "# initiate the model\n",
    "RFC = RandomForestClassifier()\n",
    "# Here I am using 5 folds cross-validation\n",
    "RFC_cv = GridSearchCV(RFC, param_grid, cv=5)\n",
    "RFC_cv.fit(X_train, y_train)\n",
    "# Time to print out the best score and best params\n",
    "print(\"Best score is:\", str(RFC_cv.best_score_))\n",
    "print(\"Best parameters is:\", str(RFC_cv.best_params_))"
   ]
  },
  {
   "cell_type": "code",
   "execution_count": 28,
   "id": "63c049a7",
   "metadata": {},
   "outputs": [
    {
     "name": "stdout",
     "output_type": "stream",
     "text": [
      "The accuracy of RandomForestClassifier is: 0.9467040673211781\n",
      "The confusion matrix is: [[358  15]\n",
      " [ 23 317]]\n"
     ]
    }
   ],
   "source": [
    "# Now I have the best parameters number of 41, so I apply that to n_estimators\n",
    "rfc = RandomForestClassifier(n_estimators=41, random_state=42)\n",
    "rfc.fit(X_train, y_train)\n",
    "# getting the accuracy of the model\n",
    "y_pred = rfc.predict(X_test)\n",
    "print(\"The accuracy of RandomForestClassifier is:\", accuracy_score(y_test, y_pred))\n",
    "# getting the confusion matrix\n",
    "CM = confusion_matrix(y_test, y_pred)\n",
    "print(\"The confusion matrix is:\", CM)"
   ]
  },
  {
   "cell_type": "markdown",
   "id": "426c658e",
   "metadata": {},
   "source": [
    "The Random Forest model accuracy is 94%, as usual let's look at the heatmap of the confusion matrix."
   ]
  },
  {
   "cell_type": "code",
   "execution_count": 29,
   "id": "3e8afafa",
   "metadata": {},
   "outputs": [
    {
     "data": {
      "text/plain": [
       "Text(0.5, 1.0, 'Confusion Matrix Heatmap RandomForestClassifier')"
      ]
     },
     "execution_count": 29,
     "metadata": {},
     "output_type": "execute_result"
    },
    {
     "data": {
      "image/png": "[encoded data removed]",
      "text/plain": [
       "<Figure size 800x600 with 2 Axes>"
      ]
     },
     "metadata": {},
     "output_type": "display_data"
    }
   ],
   "source": [
    "plt.figure(figsize=(8,6))\n",
    "sns.heatmap(CM, annot=True, fmt='d', cmap='Blues', xticklabels=['Not Fraud', 'Fraud'], yticklabels=['No Fraud', 'Fraud'])\n",
    "plt.title(\"Confusion Matrix Heatmap RandomForestClassifier\")"
   ]
  },
  {
   "cell_type": "markdown",
   "id": "bcdca8f1",
   "metadata": {},
   "source": [
    "# Summary\n",
    "\n",
    "### Importing libraries:\n",
    "\n",
    "### Data Loading:\n",
    "\n",
    "### Data Exploration:\n",
    "\n",
    "### Data Splitting:\n",
    "\n",
    "### Data Scaling:\n",
    "\n",
    "## K-Nearest Neighbor (KNN)\n",
    "I applied KNN model and the data and had an accuracy result of 62%. Performed model evaluation on KNN using Cross Validation and Auc-Roc that slighlty improved my model performance to 63%.\n",
    "\n",
    "## Support Vector Machine (SVM)\n",
    "Support vector machine carried out a better accuracy result then KNN, with an acuuracy score of 76%. after performing a model evaluation to SVM, I got an even better accuracy score of 80%.\n",
    "\n",
    "## Random Forest\n",
    "### Grid SearchCV:\n",
    "I used the grid searchcv to find the best hyperparameter, and then applied them to the modle and got an accuracy result of 94%.\n",
    "\n",
    "## Conclusion\n",
    "through systematic exploration, evaluation, and optimization of machine learning models, we have successfully identified a robust Random Forest model capable of accurately predicting outcomes from the given dataset. The achieved accuracy of 94% underscores the effectiveness of the approach in delivering high-quality predictive analytics. Further iterations and refinements of this methodology could potentially yield even greater insights and performance improvements."
   ]
  }
 ],
 "metadata": {
  "kernelspec": {
   "display_name": "Python 3 (ipykernel)",
   "language": "python",
   "name": "python3"
  },
  "language_info": {
   "codemirror_mode": {
    "name": "ipython",
    "version": 3
   },
   "file_extension": ".py",
   "mimetype": "text/x-python",
   "name": "python",
   "nbconvert_exporter": "python",
   "pygments_lexer": "ipython3",
   "version": "3.11.5"
  }
 },
 "nbformat": 4,
 "nbformat_minor": 5
}
